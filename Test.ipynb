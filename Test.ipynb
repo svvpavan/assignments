{
 "cells": [
  {
   "cell_type": "code",
   "execution_count": 13,
   "metadata": {},
   "outputs": [
    {
     "name": "stdout",
     "output_type": "stream",
     "text": [
      "Sum of numbers using for loop: 45\n",
      "Sum of numbers using while loop:  45\n"
     ]
    }
   ],
   "source": [
    "##Sum of numbers\n",
    "num=[1,2,3,4,5,6,7,8,9]\n",
    "\n",
    "sum=0\n",
    "for i in num:\n",
    "    sum=sum+i\n",
    "print (\"Sum of numbers using for loop:\",sum)\n",
    "\n",
    "i=0\n",
    "sum=0\n",
    "while(i<=len(num)):\n",
    "    sum=sum+i\n",
    "    i=i+1\n",
    "print (\"Sum of numbers using while loop:\",sum)"
   ]
  },
  {
   "cell_type": "code",
   "execution_count": 34,
   "metadata": {},
   "outputs": [
    {
     "name": "stdout",
     "output_type": "stream",
     "text": [
      "Last element of the list ['wolf']\n",
      "List of animals reversed ['wolf', 'fox', 'eleph', 'chetah', 'bear', 'deer', 'zeb', 'hippo', 'lion', 'tigger']\n",
      "Alternate animals ['tigger', 'hippo', 'deer', 'chetah', 'fox']\n",
      "Alternate animals reversed ['wolf', 'eleph', 'bear', 'zeb', 'lion']\n"
     ]
    }
   ],
   "source": [
    "##List slicing\n",
    "animals=[\"tigger\",\"lion\",\"hippo\",\"zeb\",\"deer\",\"bear\",\"chetah\",\"eleph\",\"fox\",\"wolf\"]\n",
    "\n",
    "print(\"Last element of the list\",animals[-1:])\n",
    "print(\"List of animals reversed\",animals[len(animals)-1::-1])\n",
    "print(\"Alternate animals\", animals[:len(animals)-1:2])\n",
    "print(\"Alternate animals from last\", animals[len(animals)-1::-2])"
   ]
  },
  {
   "cell_type": "code",
   "execution_count": null,
   "metadata": {},
   "outputs": [],
   "source": []
  }
 ],
 "metadata": {
  "kernelspec": {
   "display_name": "Python 3",
   "language": "python",
   "name": "python3"
  },
  "language_info": {
   "codemirror_mode": {
    "name": "ipython",
    "version": 3
   },
   "file_extension": ".py",
   "mimetype": "text/x-python",
   "name": "python",
   "nbconvert_exporter": "python",
   "pygments_lexer": "ipython3",
   "version": "3.7.3"
  }
 },
 "nbformat": 4,
 "nbformat_minor": 2
}
